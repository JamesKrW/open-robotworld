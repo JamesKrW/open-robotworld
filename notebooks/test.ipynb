{
 "cells": [
  {
   "cell_type": "code",
   "execution_count": 1,
   "metadata": {},
   "outputs": [
    {
     "name": "stderr",
     "output_type": "stream",
     "text": [
      "/home/kangrui/miniconda3/envs/oasis/lib/python3.11/site-packages/timm/models/layers/__init__.py:48: FutureWarning: Importing from timm.models.layers is deprecated, please import via timm.layers\n",
      "  warnings.warn(f\"Importing from {__name__} is deprecated, please import via timm.layers\", FutureWarning)\n"
     ]
    }
   ],
   "source": [
    "import torch\n",
    "import os\n",
    "import sys\n",
    "#add sys so we can import from parent directory\n",
    "sys.path.append('./model')\n",
    "from model.dit import DiT_models\n",
    "from model.vae_new import VAE_models\n",
    "from torchvision.io import read_video, write_video\n",
    "from utils import load_prompt, load_actions, sigmoid_beta_schedule\n",
    "from tqdm import tqdm\n",
    "from einops import rearrange\n",
    "from torch import autocast\n",
    "from safetensors.torch import load_model\n",
    "import argparse\n",
    "from pprint import pprint\n",
    "import os\n",
    "\n",
    "assert torch.cuda.is_available()\n",
    "device = \"cuda:0\"\n",
    "\n"
   ]
  },
  {
   "cell_type": "code",
   "execution_count": 2,
   "metadata": {},
   "outputs": [],
   "source": [
    "torch.manual_seed(0)\n",
    "torch.cuda.manual_seed(0)\n",
    "\n",
    "# load DiT checkpoint\n",
    "# model = DiT_models[\"DiT-S/2\"](input_height=360,\n",
    "#         input_width=640,)\n",
    "vae = VAE_models[\"vit-l-20-shallow-encoder\"](input_height=360,\n",
    "        input_width=640,)"
   ]
  },
  {
   "cell_type": "code",
   "execution_count": 3,
   "metadata": {},
   "outputs": [
    {
     "ename": "NameError",
     "evalue": "name 'model' is not defined",
     "output_type": "error",
     "traceback": [
      "\u001b[0;31m---------------------------------------------------------------------------\u001b[0m",
      "\u001b[0;31mNameError\u001b[0m                                 Traceback (most recent call last)",
      "Cell \u001b[0;32mIn[3], line 2\u001b[0m\n\u001b[1;32m      1\u001b[0m vae \u001b[38;5;241m=\u001b[39m vae\u001b[38;5;241m.\u001b[39mto(device)\u001b[38;5;241m.\u001b[39meval()\n\u001b[0;32m----> 2\u001b[0m model\u001b[38;5;241m=\u001b[39mmodel\u001b[38;5;241m.\u001b[39mto(device)\u001b[38;5;241m.\u001b[39meval()\n",
      "\u001b[0;31mNameError\u001b[0m: name 'model' is not defined"
     ]
    }
   ],
   "source": [
    "vae = vae.to(device).eval()\n",
    "model=model.to(device).eval()"
   ]
  },
  {
   "cell_type": "code",
   "execution_count": 4,
   "metadata": {},
   "outputs": [
    {
     "name": "stdout",
     "output_type": "stream",
     "text": [
      "prompt is image; ignoring video_offset and n_prompt_frames\n"
     ]
    }
   ],
   "source": [
    "x = load_prompt(\n",
    "        \"/home/kangrui/projects/world_model/open-oasis/sample_data/sample_image_0.png\",\n",
    "        video_offset=0,\n",
    "        n_prompt_frames=1,\n",
    "    )"
   ]
  },
  {
   "cell_type": "code",
   "execution_count": 5,
   "metadata": {},
   "outputs": [
    {
     "name": "stdout",
     "output_type": "stream",
     "text": [
      "torch.Size([1, 1, 16, 18, 32])\n"
     ]
    }
   ],
   "source": [
    "x = x.to(device)\n",
    "   \n",
    "    # vae encoding\n",
    "B = x.shape[0]\n",
    "H, W = x.shape[-2:]\n",
    "scaling_factor = 0.07843137255\n",
    "x = rearrange(x, \"b t c h w -> (b t) c h w\")\n",
    "with torch.no_grad():\n",
    "    with autocast(\"cuda\", dtype=torch.half):\n",
    "        x = vae.encode(x * 2 - 1).mean * scaling_factor\n",
    "x = rearrange(x, \"(b t) (h w) c -> b t c h w\", t=1, h=H // vae.patch_size, w=W // vae.patch_size)\n",
    "x = x[:, :1]\n",
    "print(x.shape)"
   ]
  }
 ],
 "metadata": {
  "kernelspec": {
   "display_name": "oasis",
   "language": "python",
   "name": "python3"
  },
  "language_info": {
   "codemirror_mode": {
    "name": "ipython",
    "version": 3
   },
   "file_extension": ".py",
   "mimetype": "text/x-python",
   "name": "python",
   "nbconvert_exporter": "python",
   "pygments_lexer": "ipython3",
   "version": "3.11.11"
  }
 },
 "nbformat": 4,
 "nbformat_minor": 2
}
